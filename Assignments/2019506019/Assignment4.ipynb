{
  "nbformat": 4,
  "nbformat_minor": 0,
  "metadata": {
    "colab": {
      "provenance": [],
      "collapsed_sections": []
    },
    "kernelspec": {
      "name": "python3",
      "display_name": "Python 3"
    },
    "language_info": {
      "name": "python"
    }
  },
  "cells": [
    {
      "cell_type": "code",
      "execution_count": 3,
      "metadata": {
        "id": "Ic8MlZhxI-jL"
      },
      "outputs": [],
      "source": [
        "#Dataset is downloaded."
      ]
    },
    {
      "cell_type": "code",
      "source": [
        "import pandas as pd\n",
        "# Reading the CSV file\n",
        "df = pd.read_csv(\"Mall_Customers.csv\")\n",
        "# Printing top 5 rows\n",
        "df.head()"
      ],
      "metadata": {
        "colab": {
          "base_uri": "https://localhost:8080/",
          "height": 206
        },
        "id": "mqfNc-1BJCct",
        "outputId": "5969bc99-eab2-4bb1-c63d-69a9fb683fff"
      },
      "execution_count": 4,
      "outputs": [
        {
          "output_type": "execute_result",
          "data": {
            "text/plain": [
              "   CustomerID  Gender  Age  Annual Income (k$)  Spending Score (1-100)\n",
              "0           1    Male   19                  15                      39\n",
              "1           2    Male   21                  15                      81\n",
              "2           3  Female   20                  16                       6\n",
              "3           4  Female   23                  16                      77\n",
              "4           5  Female   31                  17                      40"
            ],
            "text/html": [
              "\n",
              "  <div id=\"df-fc05a7e7-7a81-48f9-9231-7026aba47367\">\n",
              "    <div class=\"colab-df-container\">\n",
              "      <div>\n",
              "<style scoped>\n",
              "    .dataframe tbody tr th:only-of-type {\n",
              "        vertical-align: middle;\n",
              "    }\n",
              "\n",
              "    .dataframe tbody tr th {\n",
              "        vertical-align: top;\n",
              "    }\n",
              "\n",
              "    .dataframe thead th {\n",
              "        text-align: right;\n",
              "    }\n",
              "</style>\n",
              "<table border=\"1\" class=\"dataframe\">\n",
              "  <thead>\n",
              "    <tr style=\"text-align: right;\">\n",
              "      <th></th>\n",
              "      <th>CustomerID</th>\n",
              "      <th>Gender</th>\n",
              "      <th>Age</th>\n",
              "      <th>Annual Income (k$)</th>\n",
              "      <th>Spending Score (1-100)</th>\n",
              "    </tr>\n",
              "  </thead>\n",
              "  <tbody>\n",
              "    <tr>\n",
              "      <th>0</th>\n",
              "      <td>1</td>\n",
              "      <td>Male</td>\n",
              "      <td>19</td>\n",
              "      <td>15</td>\n",
              "      <td>39</td>\n",
              "    </tr>\n",
              "    <tr>\n",
              "      <th>1</th>\n",
              "      <td>2</td>\n",
              "      <td>Male</td>\n",
              "      <td>21</td>\n",
              "      <td>15</td>\n",
              "      <td>81</td>\n",
              "    </tr>\n",
              "    <tr>\n",
              "      <th>2</th>\n",
              "      <td>3</td>\n",
              "      <td>Female</td>\n",
              "      <td>20</td>\n",
              "      <td>16</td>\n",
              "      <td>6</td>\n",
              "    </tr>\n",
              "    <tr>\n",
              "      <th>3</th>\n",
              "      <td>4</td>\n",
              "      <td>Female</td>\n",
              "      <td>23</td>\n",
              "      <td>16</td>\n",
              "      <td>77</td>\n",
              "    </tr>\n",
              "    <tr>\n",
              "      <th>4</th>\n",
              "      <td>5</td>\n",
              "      <td>Female</td>\n",
              "      <td>31</td>\n",
              "      <td>17</td>\n",
              "      <td>40</td>\n",
              "    </tr>\n",
              "  </tbody>\n",
              "</table>\n",
              "</div>\n",
              "      <button class=\"colab-df-convert\" onclick=\"convertToInteractive('df-fc05a7e7-7a81-48f9-9231-7026aba47367')\"\n",
              "              title=\"Convert this dataframe to an interactive table.\"\n",
              "              style=\"display:none;\">\n",
              "        \n",
              "  <svg xmlns=\"http://www.w3.org/2000/svg\" height=\"24px\"viewBox=\"0 0 24 24\"\n",
              "       width=\"24px\">\n",
              "    <path d=\"M0 0h24v24H0V0z\" fill=\"none\"/>\n",
              "    <path d=\"M18.56 5.44l.94 2.06.94-2.06 2.06-.94-2.06-.94-.94-2.06-.94 2.06-2.06.94zm-11 1L8.5 8.5l.94-2.06 2.06-.94-2.06-.94L8.5 2.5l-.94 2.06-2.06.94zm10 10l.94 2.06.94-2.06 2.06-.94-2.06-.94-.94-2.06-.94 2.06-2.06.94z\"/><path d=\"M17.41 7.96l-1.37-1.37c-.4-.4-.92-.59-1.43-.59-.52 0-1.04.2-1.43.59L10.3 9.45l-7.72 7.72c-.78.78-.78 2.05 0 2.83L4 21.41c.39.39.9.59 1.41.59.51 0 1.02-.2 1.41-.59l7.78-7.78 2.81-2.81c.8-.78.8-2.07 0-2.86zM5.41 20L4 18.59l7.72-7.72 1.47 1.35L5.41 20z\"/>\n",
              "  </svg>\n",
              "      </button>\n",
              "      \n",
              "  <style>\n",
              "    .colab-df-container {\n",
              "      display:flex;\n",
              "      flex-wrap:wrap;\n",
              "      gap: 12px;\n",
              "    }\n",
              "\n",
              "    .colab-df-convert {\n",
              "      background-color: #E8F0FE;\n",
              "      border: none;\n",
              "      border-radius: 50%;\n",
              "      cursor: pointer;\n",
              "      display: none;\n",
              "      fill: #1967D2;\n",
              "      height: 32px;\n",
              "      padding: 0 0 0 0;\n",
              "      width: 32px;\n",
              "    }\n",
              "\n",
              "    .colab-df-convert:hover {\n",
              "      background-color: #E2EBFA;\n",
              "      box-shadow: 0px 1px 2px rgba(60, 64, 67, 0.3), 0px 1px 3px 1px rgba(60, 64, 67, 0.15);\n",
              "      fill: #174EA6;\n",
              "    }\n",
              "\n",
              "    [theme=dark] .colab-df-convert {\n",
              "      background-color: #3B4455;\n",
              "      fill: #D2E3FC;\n",
              "    }\n",
              "\n",
              "    [theme=dark] .colab-df-convert:hover {\n",
              "      background-color: #434B5C;\n",
              "      box-shadow: 0px 1px 3px 1px rgba(0, 0, 0, 0.15);\n",
              "      filter: drop-shadow(0px 1px 2px rgba(0, 0, 0, 0.3));\n",
              "      fill: #FFFFFF;\n",
              "    }\n",
              "  </style>\n",
              "\n",
              "      <script>\n",
              "        const buttonEl =\n",
              "          document.querySelector('#df-fc05a7e7-7a81-48f9-9231-7026aba47367 button.colab-df-convert');\n",
              "        buttonEl.style.display =\n",
              "          google.colab.kernel.accessAllowed ? 'block' : 'none';\n",
              "\n",
              "        async function convertToInteractive(key) {\n",
              "          const element = document.querySelector('#df-fc05a7e7-7a81-48f9-9231-7026aba47367');\n",
              "          const dataTable =\n",
              "            await google.colab.kernel.invokeFunction('convertToInteractive',\n",
              "                                                     [key], {});\n",
              "          if (!dataTable) return;\n",
              "\n",
              "          const docLinkHtml = 'Like what you see? Visit the ' +\n",
              "            '<a target=\"_blank\" href=https://colab.research.google.com/notebooks/data_table.ipynb>data table notebook</a>'\n",
              "            + ' to learn more about interactive tables.';\n",
              "          element.innerHTML = '';\n",
              "          dataTable['output_type'] = 'display_data';\n",
              "          await google.colab.output.renderOutput(dataTable, element);\n",
              "          const docLink = document.createElement('div');\n",
              "          docLink.innerHTML = docLinkHtml;\n",
              "          element.appendChild(docLink);\n",
              "        }\n",
              "      </script>\n",
              "    </div>\n",
              "  </div>\n",
              "  "
            ]
          },
          "metadata": {},
          "execution_count": 4
        }
      ]
    },
    {
      "cell_type": "code",
      "source": [
        "#Univariate Analysis"
      ],
      "metadata": {
        "id": "kxw6hBrNKmDI"
      },
      "execution_count": 5,
      "outputs": []
    },
    {
      "cell_type": "code",
      "source": [
        "#FREQUENCY\n",
        "df.value_counts('Gender')"
      ],
      "metadata": {
        "colab": {
          "base_uri": "https://localhost:8080/"
        },
        "id": "lHfgv0tsKnHz",
        "outputId": "10b9c4c3-0a38-43c5-c57e-36eddf461594"
      },
      "execution_count": 6,
      "outputs": [
        {
          "output_type": "execute_result",
          "data": {
            "text/plain": [
              "Gender\n",
              "Female    112\n",
              "Male       88\n",
              "dtype: int64"
            ]
          },
          "metadata": {},
          "execution_count": 6
        }
      ]
    },
    {
      "cell_type": "code",
      "source": [
        "#MEAN\n",
        "df.mean()"
      ],
      "metadata": {
        "colab": {
          "base_uri": "https://localhost:8080/"
        },
        "id": "vVuDR0PEKqV0",
        "outputId": "49085c04-8f4e-4128-ad77-0d075594c87a"
      },
      "execution_count": 7,
      "outputs": [
        {
          "output_type": "stream",
          "name": "stderr",
          "text": [
            "/usr/local/lib/python3.7/dist-packages/ipykernel_launcher.py:2: FutureWarning: Dropping of nuisance columns in DataFrame reductions (with 'numeric_only=None') is deprecated; in a future version this will raise TypeError.  Select only valid columns before calling the reduction.\n",
            "  \n"
          ]
        },
        {
          "output_type": "execute_result",
          "data": {
            "text/plain": [
              "CustomerID                100.50\n",
              "Age                        38.85\n",
              "Annual Income (k$)         60.56\n",
              "Spending Score (1-100)     50.20\n",
              "dtype: float64"
            ]
          },
          "metadata": {},
          "execution_count": 7
        }
      ]
    },
    {
      "cell_type": "code",
      "source": [
        "#MODE\n",
        "df[['CustomerID',\t'Gender',\t'Age']].mode()"
      ],
      "metadata": {
        "colab": {
          "base_uri": "https://localhost:8080/",
          "height": 424
        },
        "id": "a3aDWaNvKy-e",
        "outputId": "314066a5-959c-4c78-e30d-fb8692de7a0b"
      },
      "execution_count": 8,
      "outputs": [
        {
          "output_type": "execute_result",
          "data": {
            "text/plain": [
              "     CustomerID  Gender   Age\n",
              "0             1  Female  32.0\n",
              "1             2     NaN   NaN\n",
              "2             3     NaN   NaN\n",
              "3             4     NaN   NaN\n",
              "4             5     NaN   NaN\n",
              "..          ...     ...   ...\n",
              "195         196     NaN   NaN\n",
              "196         197     NaN   NaN\n",
              "197         198     NaN   NaN\n",
              "198         199     NaN   NaN\n",
              "199         200     NaN   NaN\n",
              "\n",
              "[200 rows x 3 columns]"
            ],
            "text/html": [
              "\n",
              "  <div id=\"df-51428da1-79fa-4884-9963-34f59bf495cd\">\n",
              "    <div class=\"colab-df-container\">\n",
              "      <div>\n",
              "<style scoped>\n",
              "    .dataframe tbody tr th:only-of-type {\n",
              "        vertical-align: middle;\n",
              "    }\n",
              "\n",
              "    .dataframe tbody tr th {\n",
              "        vertical-align: top;\n",
              "    }\n",
              "\n",
              "    .dataframe thead th {\n",
              "        text-align: right;\n",
              "    }\n",
              "</style>\n",
              "<table border=\"1\" class=\"dataframe\">\n",
              "  <thead>\n",
              "    <tr style=\"text-align: right;\">\n",
              "      <th></th>\n",
              "      <th>CustomerID</th>\n",
              "      <th>Gender</th>\n",
              "      <th>Age</th>\n",
              "    </tr>\n",
              "  </thead>\n",
              "  <tbody>\n",
              "    <tr>\n",
              "      <th>0</th>\n",
              "      <td>1</td>\n",
              "      <td>Female</td>\n",
              "      <td>32.0</td>\n",
              "    </tr>\n",
              "    <tr>\n",
              "      <th>1</th>\n",
              "      <td>2</td>\n",
              "      <td>NaN</td>\n",
              "      <td>NaN</td>\n",
              "    </tr>\n",
              "    <tr>\n",
              "      <th>2</th>\n",
              "      <td>3</td>\n",
              "      <td>NaN</td>\n",
              "      <td>NaN</td>\n",
              "    </tr>\n",
              "    <tr>\n",
              "      <th>3</th>\n",
              "      <td>4</td>\n",
              "      <td>NaN</td>\n",
              "      <td>NaN</td>\n",
              "    </tr>\n",
              "    <tr>\n",
              "      <th>4</th>\n",
              "      <td>5</td>\n",
              "      <td>NaN</td>\n",
              "      <td>NaN</td>\n",
              "    </tr>\n",
              "    <tr>\n",
              "      <th>...</th>\n",
              "      <td>...</td>\n",
              "      <td>...</td>\n",
              "      <td>...</td>\n",
              "    </tr>\n",
              "    <tr>\n",
              "      <th>195</th>\n",
              "      <td>196</td>\n",
              "      <td>NaN</td>\n",
              "      <td>NaN</td>\n",
              "    </tr>\n",
              "    <tr>\n",
              "      <th>196</th>\n",
              "      <td>197</td>\n",
              "      <td>NaN</td>\n",
              "      <td>NaN</td>\n",
              "    </tr>\n",
              "    <tr>\n",
              "      <th>197</th>\n",
              "      <td>198</td>\n",
              "      <td>NaN</td>\n",
              "      <td>NaN</td>\n",
              "    </tr>\n",
              "    <tr>\n",
              "      <th>198</th>\n",
              "      <td>199</td>\n",
              "      <td>NaN</td>\n",
              "      <td>NaN</td>\n",
              "    </tr>\n",
              "    <tr>\n",
              "      <th>199</th>\n",
              "      <td>200</td>\n",
              "      <td>NaN</td>\n",
              "      <td>NaN</td>\n",
              "    </tr>\n",
              "  </tbody>\n",
              "</table>\n",
              "<p>200 rows × 3 columns</p>\n",
              "</div>\n",
              "      <button class=\"colab-df-convert\" onclick=\"convertToInteractive('df-51428da1-79fa-4884-9963-34f59bf495cd')\"\n",
              "              title=\"Convert this dataframe to an interactive table.\"\n",
              "              style=\"display:none;\">\n",
              "        \n",
              "  <svg xmlns=\"http://www.w3.org/2000/svg\" height=\"24px\"viewBox=\"0 0 24 24\"\n",
              "       width=\"24px\">\n",
              "    <path d=\"M0 0h24v24H0V0z\" fill=\"none\"/>\n",
              "    <path d=\"M18.56 5.44l.94 2.06.94-2.06 2.06-.94-2.06-.94-.94-2.06-.94 2.06-2.06.94zm-11 1L8.5 8.5l.94-2.06 2.06-.94-2.06-.94L8.5 2.5l-.94 2.06-2.06.94zm10 10l.94 2.06.94-2.06 2.06-.94-2.06-.94-.94-2.06-.94 2.06-2.06.94z\"/><path d=\"M17.41 7.96l-1.37-1.37c-.4-.4-.92-.59-1.43-.59-.52 0-1.04.2-1.43.59L10.3 9.45l-7.72 7.72c-.78.78-.78 2.05 0 2.83L4 21.41c.39.39.9.59 1.41.59.51 0 1.02-.2 1.41-.59l7.78-7.78 2.81-2.81c.8-.78.8-2.07 0-2.86zM5.41 20L4 18.59l7.72-7.72 1.47 1.35L5.41 20z\"/>\n",
              "  </svg>\n",
              "      </button>\n",
              "      \n",
              "  <style>\n",
              "    .colab-df-container {\n",
              "      display:flex;\n",
              "      flex-wrap:wrap;\n",
              "      gap: 12px;\n",
              "    }\n",
              "\n",
              "    .colab-df-convert {\n",
              "      background-color: #E8F0FE;\n",
              "      border: none;\n",
              "      border-radius: 50%;\n",
              "      cursor: pointer;\n",
              "      display: none;\n",
              "      fill: #1967D2;\n",
              "      height: 32px;\n",
              "      padding: 0 0 0 0;\n",
              "      width: 32px;\n",
              "    }\n",
              "\n",
              "    .colab-df-convert:hover {\n",
              "      background-color: #E2EBFA;\n",
              "      box-shadow: 0px 1px 2px rgba(60, 64, 67, 0.3), 0px 1px 3px 1px rgba(60, 64, 67, 0.15);\n",
              "      fill: #174EA6;\n",
              "    }\n",
              "\n",
              "    [theme=dark] .colab-df-convert {\n",
              "      background-color: #3B4455;\n",
              "      fill: #D2E3FC;\n",
              "    }\n",
              "\n",
              "    [theme=dark] .colab-df-convert:hover {\n",
              "      background-color: #434B5C;\n",
              "      box-shadow: 0px 1px 3px 1px rgba(0, 0, 0, 0.15);\n",
              "      filter: drop-shadow(0px 1px 2px rgba(0, 0, 0, 0.3));\n",
              "      fill: #FFFFFF;\n",
              "    }\n",
              "  </style>\n",
              "\n",
              "      <script>\n",
              "        const buttonEl =\n",
              "          document.querySelector('#df-51428da1-79fa-4884-9963-34f59bf495cd button.colab-df-convert');\n",
              "        buttonEl.style.display =\n",
              "          google.colab.kernel.accessAllowed ? 'block' : 'none';\n",
              "\n",
              "        async function convertToInteractive(key) {\n",
              "          const element = document.querySelector('#df-51428da1-79fa-4884-9963-34f59bf495cd');\n",
              "          const dataTable =\n",
              "            await google.colab.kernel.invokeFunction('convertToInteractive',\n",
              "                                                     [key], {});\n",
              "          if (!dataTable) return;\n",
              "\n",
              "          const docLinkHtml = 'Like what you see? Visit the ' +\n",
              "            '<a target=\"_blank\" href=https://colab.research.google.com/notebooks/data_table.ipynb>data table notebook</a>'\n",
              "            + ' to learn more about interactive tables.';\n",
              "          element.innerHTML = '';\n",
              "          dataTable['output_type'] = 'display_data';\n",
              "          await google.colab.output.renderOutput(dataTable, element);\n",
              "          const docLink = document.createElement('div');\n",
              "          docLink.innerHTML = docLinkHtml;\n",
              "          element.appendChild(docLink);\n",
              "        }\n",
              "      </script>\n",
              "    </div>\n",
              "  </div>\n",
              "  "
            ]
          },
          "metadata": {},
          "execution_count": 8
        }
      ]
    },
    {
      "cell_type": "code",
      "source": [
        "#SKEWNESS\n",
        "df.skew()"
      ],
      "metadata": {
        "colab": {
          "base_uri": "https://localhost:8080/"
        },
        "id": "d7PWgHQlLhtF",
        "outputId": "af31f68f-ad38-463a-c876-a6bd67fa4d1e"
      },
      "execution_count": 9,
      "outputs": [
        {
          "output_type": "stream",
          "name": "stderr",
          "text": [
            "/usr/local/lib/python3.7/dist-packages/ipykernel_launcher.py:2: FutureWarning: Dropping of nuisance columns in DataFrame reductions (with 'numeric_only=None') is deprecated; in a future version this will raise TypeError.  Select only valid columns before calling the reduction.\n",
            "  \n"
          ]
        },
        {
          "output_type": "execute_result",
          "data": {
            "text/plain": [
              "CustomerID                0.000000\n",
              "Age                       0.485569\n",
              "Annual Income (k$)        0.321843\n",
              "Spending Score (1-100)   -0.047220\n",
              "dtype: float64"
            ]
          },
          "metadata": {},
          "execution_count": 9
        }
      ]
    },
    {
      "cell_type": "code",
      "source": [
        "#KURTOSIS\n",
        "df.kurtosis()"
      ],
      "metadata": {
        "colab": {
          "base_uri": "https://localhost:8080/"
        },
        "id": "1u_lfZqqLltt",
        "outputId": "48f374c9-ff9a-456b-e782-0666312cdec0"
      },
      "execution_count": 10,
      "outputs": [
        {
          "output_type": "stream",
          "name": "stderr",
          "text": [
            "/usr/local/lib/python3.7/dist-packages/ipykernel_launcher.py:2: FutureWarning: Dropping of nuisance columns in DataFrame reductions (with 'numeric_only=None') is deprecated; in a future version this will raise TypeError.  Select only valid columns before calling the reduction.\n",
            "  \n"
          ]
        },
        {
          "output_type": "execute_result",
          "data": {
            "text/plain": [
              "CustomerID               -1.200000\n",
              "Age                      -0.671573\n",
              "Annual Income (k$)       -0.098487\n",
              "Spending Score (1-100)   -0.826629\n",
              "dtype: float64"
            ]
          },
          "metadata": {},
          "execution_count": 10
        }
      ]
    },
    {
      "cell_type": "code",
      "source": [
        "#MEDIAN\n",
        "df.median()"
      ],
      "metadata": {
        "colab": {
          "base_uri": "https://localhost:8080/"
        },
        "id": "GgARnwEpLpnd",
        "outputId": "7ef5d954-c706-43a2-eea9-60638b7d85cb"
      },
      "execution_count": 11,
      "outputs": [
        {
          "output_type": "stream",
          "name": "stderr",
          "text": [
            "/usr/local/lib/python3.7/dist-packages/ipykernel_launcher.py:2: FutureWarning: Dropping of nuisance columns in DataFrame reductions (with 'numeric_only=None') is deprecated; in a future version this will raise TypeError.  Select only valid columns before calling the reduction.\n",
            "  \n"
          ]
        },
        {
          "output_type": "execute_result",
          "data": {
            "text/plain": [
              "CustomerID                100.5\n",
              "Age                        36.0\n",
              "Annual Income (k$)         61.5\n",
              "Spending Score (1-100)     50.0\n",
              "dtype: float64"
            ]
          },
          "metadata": {},
          "execution_count": 11
        }
      ]
    },
    {
      "cell_type": "code",
      "source": [
        "#VARIANCE\n",
        "df.var()"
      ],
      "metadata": {
        "colab": {
          "base_uri": "https://localhost:8080/"
        },
        "id": "6E65nviALwIm",
        "outputId": "343bf5c3-40d6-45b4-a351-d3e510b6858a"
      },
      "execution_count": 12,
      "outputs": [
        {
          "output_type": "stream",
          "name": "stderr",
          "text": [
            "/usr/local/lib/python3.7/dist-packages/ipykernel_launcher.py:2: FutureWarning: Dropping of nuisance columns in DataFrame reductions (with 'numeric_only=None') is deprecated; in a future version this will raise TypeError.  Select only valid columns before calling the reduction.\n",
            "  \n"
          ]
        },
        {
          "output_type": "execute_result",
          "data": {
            "text/plain": [
              "CustomerID                3350.000000\n",
              "Age                        195.133166\n",
              "Annual Income (k$)         689.835578\n",
              "Spending Score (1-100)     666.854271\n",
              "dtype: float64"
            ]
          },
          "metadata": {},
          "execution_count": 12
        }
      ]
    },
    {
      "cell_type": "code",
      "source": [
        "df.std()"
      ],
      "metadata": {
        "colab": {
          "base_uri": "https://localhost:8080/"
        },
        "id": "iPG_Jw52LzH0",
        "outputId": "09e9bbc5-7cfb-4f56-be5d-13d65213adf9"
      },
      "execution_count": 13,
      "outputs": [
        {
          "output_type": "stream",
          "name": "stderr",
          "text": [
            "/usr/local/lib/python3.7/dist-packages/ipykernel_launcher.py:1: FutureWarning: Dropping of nuisance columns in DataFrame reductions (with 'numeric_only=None') is deprecated; in a future version this will raise TypeError.  Select only valid columns before calling the reduction.\n",
            "  \"\"\"Entry point for launching an IPython kernel.\n"
          ]
        },
        {
          "output_type": "execute_result",
          "data": {
            "text/plain": [
              "CustomerID                57.879185\n",
              "Age                       13.969007\n",
              "Annual Income (k$)        26.264721\n",
              "Spending Score (1-100)    25.823522\n",
              "dtype: float64"
            ]
          },
          "metadata": {},
          "execution_count": 13
        }
      ]
    },
    {
      "cell_type": "code",
      "source": [
        "#UNIVARIATE ANALYSIS\n",
        "import seaborn as sns\n",
        "sns.histplot(df.Age,kde=True)"
      ],
      "metadata": {
        "colab": {
          "base_uri": "https://localhost:8080/",
          "height": 296
        },
        "id": "Cw27SOtRL1MF",
        "outputId": "d8eb5393-57e4-4eff-b39b-495a16b6472f"
      },
      "execution_count": 14,
      "outputs": [
        {
          "output_type": "execute_result",
          "data": {
            "text/plain": [
              "<matplotlib.axes._subplots.AxesSubplot at 0x7f466a4f7c10>"
            ]
          },
          "metadata": {},
          "execution_count": 14
        },
        {
          "output_type": "display_data",
          "data": {
            "text/plain": [
              "<Figure size 432x288 with 1 Axes>"
            ],
            "image/png": "[encoded data removed]"
          },
          "metadata": {
            "needs_background": "light"
          }
        }
      ]
    },
    {
      "cell_type": "code",
      "source": [
        "#UNIVARIATE ANALYSIS OF CATEGORICAL VARIABLES\n",
        "sns.countplot(df.Gender)"
      ],
      "metadata": {
        "colab": {
          "base_uri": "https://localhost:8080/",
          "height": 351
        },
        "id": "ytzOiMZoL7RQ",
        "outputId": "a8bb3233-c85f-4b5a-b1b6-b241fcf0c5e8"
      },
      "execution_count": 15,
      "outputs": [
        {
          "output_type": "stream",
          "name": "stderr",
          "text": [
            "/usr/local/lib/python3.7/dist-packages/seaborn/_decorators.py:43: FutureWarning: Pass the following variable as a keyword arg: x. From version 0.12, the only valid positional argument will be `data`, and passing other arguments without an explicit keyword will result in an error or misinterpretation.\n",
            "  FutureWarning\n"
          ]
        },
        {
          "output_type": "execute_result",
          "data": {
            "text/plain": [
              "<matplotlib.axes._subplots.AxesSubplot at 0x7f466a41ab10>"
            ]
          },
          "metadata": {},
          "execution_count": 15
        },
        {
          "output_type": "display_data",
          "data": {
            "text/plain": [
              "<Figure size 432x288 with 1 Axes>"
            ],
            "image/png": "[encoded data removed]"
          },
          "metadata": {
            "needs_background": "light"
          }
        }
      ]
    },
    {
      "cell_type": "code",
      "source": [
        "sns.histplot(df.Gender,kde=True)"
      ],
      "metadata": {
        "colab": {
          "base_uri": "https://localhost:8080/",
          "height": 296
        },
        "id": "A8-7b2H1MBXP",
        "outputId": "2390f31f-1498-473f-abe1-51112a73f081"
      },
      "execution_count": 16,
      "outputs": [
        {
          "output_type": "execute_result",
          "data": {
            "text/plain": [
              "<matplotlib.axes._subplots.AxesSubplot at 0x7f4669f40290>"
            ]
          },
          "metadata": {},
          "execution_count": 16
        },
        {
          "output_type": "display_data",
          "data": {
            "text/plain": [
              "<Figure size 432x288 with 1 Axes>"
            ],
            "image/png": "[encoded data removed]"
          },
          "metadata": {
            "needs_background": "light"
          }
        }
      ]
    },
    {
      "cell_type": "code",
      "source": [
        "#BIVARIATE ANALYSIS\n",
        "import matplotlib.pyplot as plt\n",
        "plt.figure(figsize=(12,8))\n",
        "sns.kdeplot(data=df,x='Age',hue='Gender',fill=True)"
      ],
      "metadata": {
        "colab": {
          "base_uri": "https://localhost:8080/",
          "height": 514
        },
        "id": "2tCOxWVWMw0E",
        "outputId": "fbe7b2bb-aa1e-476b-b088-3f2b96ddca00"
      },
      "execution_count": 17,
      "outputs": [
        {
          "output_type": "execute_result",
          "data": {
            "text/plain": [
              "<matplotlib.axes._subplots.AxesSubplot at 0x7f4669f21710>"
            ]
          },
          "metadata": {},
          "execution_count": 17
        },
        {
          "output_type": "display_data",
          "data": {
            "text/plain": [
              "<Figure size 864x576 with 1 Axes>"
            ],
            "image/png": "[encoded data removed]"
          },
          "metadata": {
            "needs_background": "light"
          }
        }
      ]
    },
    {
      "cell_type": "code",
      "source": [
        "#MULTIVARIATE ANALYSIS\n",
        "#PAIRPLOT\n",
        "# importing packages\n",
        "import seaborn as sns\n",
        "import matplotlib.pyplot as plt\n",
        "sns.pairplot(df.drop(['CustomerID'], axis = 1),\n",
        "hue='Gender', height=2)"
      ],
      "metadata": {
        "colab": {
          "base_uri": "https://localhost:8080/",
          "height": 461
        },
        "id": "rYWDdlaxNEaG",
        "outputId": "15025a04-cacc-4ba1-e91c-00dd7a0448a2"
      },
      "execution_count": 18,
      "outputs": [
        {
          "output_type": "execute_result",
          "data": {
            "text/plain": [
              "<seaborn.axisgrid.PairGrid at 0x7f4669e37d90>"
            ]
          },
          "metadata": {},
          "execution_count": 18
        },
        {
          "output_type": "display_data",
          "data": {
            "text/plain": [
              "<Figure size 504.125x432 with 12 Axes>"
            ],
            "image/png": "[encoded data removed]"
          },
          "metadata": {
            "needs_background": "light"
          }
        }
      ]
    },
    {
      "cell_type": "code",
      "source": [
        "#Descriptive Statistics"
      ],
      "metadata": {
        "id": "n07ej1EqNqsB"
      },
      "execution_count": 19,
      "outputs": []
    },
    {
      "cell_type": "code",
      "source": [
        "#INFO ABOUT DATASET\n",
        "df.shape"
      ],
      "metadata": {
        "colab": {
          "base_uri": "https://localhost:8080/"
        },
        "id": "Uo2eJQL1N72x",
        "outputId": "3633eaa1-6a75-4a1a-ff88-7dd9bf536e17"
      },
      "execution_count": 20,
      "outputs": [
        {
          "output_type": "execute_result",
          "data": {
            "text/plain": [
              "(200, 5)"
            ]
          },
          "metadata": {},
          "execution_count": 20
        }
      ]
    },
    {
      "cell_type": "code",
      "source": [
        "df.info()"
      ],
      "metadata": {
        "colab": {
          "base_uri": "https://localhost:8080/"
        },
        "id": "hGfR4o69N_PD",
        "outputId": "40295765-c12c-486b-a873-987f9f4e0c11"
      },
      "execution_count": 21,
      "outputs": [
        {
          "output_type": "stream",
          "name": "stdout",
          "text": [
            "<class 'pandas.core.frame.DataFrame'>\n",
            "RangeIndex: 200 entries, 0 to 199\n",
            "Data columns (total 5 columns):\n",
            " #   Column                  Non-Null Count  Dtype \n",
            "---  ------                  --------------  ----- \n",
            " 0   CustomerID              200 non-null    int64 \n",
            " 1   Gender                  200 non-null    object\n",
            " 2   Age                     200 non-null    int64 \n",
            " 3   Annual Income (k$)      200 non-null    int64 \n",
            " 4   Spending Score (1-100)  200 non-null    int64 \n",
            "dtypes: int64(4), object(1)\n",
            "memory usage: 7.9+ KB\n"
          ]
        }
      ]
    },
    {
      "cell_type": "code",
      "source": [
        "df.describe()"
      ],
      "metadata": {
        "colab": {
          "base_uri": "https://localhost:8080/",
          "height": 300
        },
        "id": "TlQepeaOOHRs",
        "outputId": "512ba174-4b73-4ed6-b809-76f08132b769"
      },
      "execution_count": 22,
      "outputs": [
        {
          "output_type": "execute_result",
          "data": {
            "text/plain": [
              "       CustomerID         Age  Annual Income (k$)  Spending Score (1-100)\n",
              "count  200.000000  200.000000          200.000000              200.000000\n",
              "mean   100.500000   38.850000           60.560000               50.200000\n",
              "std     57.879185   13.969007           26.264721               25.823522\n",
              "min      1.000000   18.000000           15.000000                1.000000\n",
              "25%     50.750000   28.750000           41.500000               34.750000\n",
              "50%    100.500000   36.000000           61.500000               50.000000\n",
              "75%    150.250000   49.000000           78.000000               73.000000\n",
              "max    200.000000   70.000000          137.000000               99.000000"
            ],
            "text/html": [
              "\n",
              "  <div id=\"df-b2db70c5-c501-4222-9cdb-79b582c6388d\">\n",
              "    <div class=\"colab-df-container\">\n",
              "      <div>\n",
              "<style scoped>\n",
              "    .dataframe tbody tr th:only-of-type {\n",
              "        vertical-align: middle;\n",
              "    }\n",
              "\n",
              "    .dataframe tbody tr th {\n",
              "        vertical-align: top;\n",
              "    }\n",
              "\n",
              "    .dataframe thead th {\n",
              "        text-align: right;\n",
              "    }\n",
              "</style>\n",
              "<table border=\"1\" class=\"dataframe\">\n",
              "  <thead>\n",
              "    <tr style=\"text-align: right;\">\n",
              "      <th></th>\n",
              "      <th>CustomerID</th>\n",
              "      <th>Age</th>\n",
              "      <th>Annual Income (k$)</th>\n",
              "      <th>Spending Score (1-100)</th>\n",
              "    </tr>\n",
              "  </thead>\n",
              "  <tbody>\n",
              "    <tr>\n",
              "      <th>count</th>\n",
              "      <td>200.000000</td>\n",
              "      <td>200.000000</td>\n",
              "      <td>200.000000</td>\n",
              "      <td>200.000000</td>\n",
              "    </tr>\n",
              "    <tr>\n",
              "      <th>mean</th>\n",
              "      <td>100.500000</td>\n",
              "      <td>38.850000</td>\n",
              "      <td>60.560000</td>\n",
              "      <td>50.200000</td>\n",
              "    </tr>\n",
              "    <tr>\n",
              "      <th>std</th>\n",
              "      <td>57.879185</td>\n",
              "      <td>13.969007</td>\n",
              "      <td>26.264721</td>\n",
              "      <td>25.823522</td>\n",
              "    </tr>\n",
              "    <tr>\n",
              "      <th>min</th>\n",
              "      <td>1.000000</td>\n",
              "      <td>18.000000</td>\n",
              "      <td>15.000000</td>\n",
              "      <td>1.000000</td>\n",
              "    </tr>\n",
              "    <tr>\n",
              "      <th>25%</th>\n",
              "      <td>50.750000</td>\n",
              "      <td>28.750000</td>\n",
              "      <td>41.500000</td>\n",
              "      <td>34.750000</td>\n",
              "    </tr>\n",
              "    <tr>\n",
              "      <th>50%</th>\n",
              "      <td>100.500000</td>\n",
              "      <td>36.000000</td>\n",
              "      <td>61.500000</td>\n",
              "      <td>50.000000</td>\n",
              "    </tr>\n",
              "    <tr>\n",
              "      <th>75%</th>\n",
              "      <td>150.250000</td>\n",
              "      <td>49.000000</td>\n",
              "      <td>78.000000</td>\n",
              "      <td>73.000000</td>\n",
              "    </tr>\n",
              "    <tr>\n",
              "      <th>max</th>\n",
              "      <td>200.000000</td>\n",
              "      <td>70.000000</td>\n",
              "      <td>137.000000</td>\n",
              "      <td>99.000000</td>\n",
              "    </tr>\n",
              "  </tbody>\n",
              "</table>\n",
              "</div>\n",
              "      <button class=\"colab-df-convert\" onclick=\"convertToInteractive('df-b2db70c5-c501-4222-9cdb-79b582c6388d')\"\n",
              "              title=\"Convert this dataframe to an interactive table.\"\n",
              "              style=\"display:none;\">\n",
              "        \n",
              "  <svg xmlns=\"http://www.w3.org/2000/svg\" height=\"24px\"viewBox=\"0 0 24 24\"\n",
              "       width=\"24px\">\n",
              "    <path d=\"M0 0h24v24H0V0z\" fill=\"none\"/>\n",
              "    <path d=\"M18.56 5.44l.94 2.06.94-2.06 2.06-.94-2.06-.94-.94-2.06-.94 2.06-2.06.94zm-11 1L8.5 8.5l.94-2.06 2.06-.94-2.06-.94L8.5 2.5l-.94 2.06-2.06.94zm10 10l.94 2.06.94-2.06 2.06-.94-2.06-.94-.94-2.06-.94 2.06-2.06.94z\"/><path d=\"M17.41 7.96l-1.37-1.37c-.4-.4-.92-.59-1.43-.59-.52 0-1.04.2-1.43.59L10.3 9.45l-7.72 7.72c-.78.78-.78 2.05 0 2.83L4 21.41c.39.39.9.59 1.41.59.51 0 1.02-.2 1.41-.59l7.78-7.78 2.81-2.81c.8-.78.8-2.07 0-2.86zM5.41 20L4 18.59l7.72-7.72 1.47 1.35L5.41 20z\"/>\n",
              "  </svg>\n",
              "      </button>\n",
              "      \n",
              "  <style>\n",
              "    .colab-df-container {\n",
              "      display:flex;\n",
              "      flex-wrap:wrap;\n",
              "      gap: 12px;\n",
              "    }\n",
              "\n",
              "    .colab-df-convert {\n",
              "      background-color: #E8F0FE;\n",
              "      border: none;\n",
              "      border-radius: 50%;\n",
              "      cursor: pointer;\n",
              "      display: none;\n",
              "      fill: #1967D2;\n",
              "      height: 32px;\n",
              "      padding: 0 0 0 0;\n",
              "      width: 32px;\n",
              "    }\n",
              "\n",
              "    .colab-df-convert:hover {\n",
              "      background-color: #E2EBFA;\n",
              "      box-shadow: 0px 1px 2px rgba(60, 64, 67, 0.3), 0px 1px 3px 1px rgba(60, 64, 67, 0.15);\n",
              "      fill: #174EA6;\n",
              "    }\n",
              "\n",
              "    [theme=dark] .colab-df-convert {\n",
              "      background-color: #3B4455;\n",
              "      fill: #D2E3FC;\n",
              "    }\n",
              "\n",
              "    [theme=dark] .colab-df-convert:hover {\n",
              "      background-color: #434B5C;\n",
              "      box-shadow: 0px 1px 3px 1px rgba(0, 0, 0, 0.15);\n",
              "      filter: drop-shadow(0px 1px 2px rgba(0, 0, 0, 0.3));\n",
              "      fill: #FFFFFF;\n",
              "    }\n",
              "  </style>\n",
              "\n",
              "      <script>\n",
              "        const buttonEl =\n",
              "          document.querySelector('#df-b2db70c5-c501-4222-9cdb-79b582c6388d button.colab-df-convert');\n",
              "        buttonEl.style.display =\n",
              "          google.colab.kernel.accessAllowed ? 'block' : 'none';\n",
              "\n",
              "        async function convertToInteractive(key) {\n",
              "          const element = document.querySelector('#df-b2db70c5-c501-4222-9cdb-79b582c6388d');\n",
              "          const dataTable =\n",
              "            await google.colab.kernel.invokeFunction('convertToInteractive',\n",
              "                                                     [key], {});\n",
              "          if (!dataTable) return;\n",
              "\n",
              "          const docLinkHtml = 'Like what you see? Visit the ' +\n",
              "            '<a target=\"_blank\" href=https://colab.research.google.com/notebooks/data_table.ipynb>data table notebook</a>'\n",
              "            + ' to learn more about interactive tables.';\n",
              "          element.innerHTML = '';\n",
              "          dataTable['output_type'] = 'display_data';\n",
              "          await google.colab.output.renderOutput(dataTable, element);\n",
              "          const docLink = document.createElement('div');\n",
              "          docLink.innerHTML = docLinkHtml;\n",
              "          element.appendChild(docLink);\n",
              "        }\n",
              "      </script>\n",
              "    </div>\n",
              "  </div>\n",
              "  "
            ]
          },
          "metadata": {},
          "execution_count": 22
        }
      ]
    },
    {
      "cell_type": "code",
      "source": [
        "#HANDLE MISSING VALUES\n",
        "df.isnull().sum()"
      ],
      "metadata": {
        "colab": {
          "base_uri": "https://localhost:8080/"
        },
        "id": "IvNNZC_iOJXN",
        "outputId": "73a02723-7b08-410c-9755-a67e2ac8abb8"
      },
      "execution_count": 23,
      "outputs": [
        {
          "output_type": "execute_result",
          "data": {
            "text/plain": [
              "CustomerID                0\n",
              "Gender                    0\n",
              "Age                       0\n",
              "Annual Income (k$)        0\n",
              "Spending Score (1-100)    0\n",
              "dtype: int64"
            ]
          },
          "metadata": {},
          "execution_count": 23
        }
      ]
    },
    {
      "cell_type": "code",
      "source": [
        "# Categorical Varible\n",
        "df.select_dtypes(include=['object']).columns.tolist()"
      ],
      "metadata": {
        "colab": {
          "base_uri": "https://localhost:8080/"
        },
        "id": "awx5NcwvP2ue",
        "outputId": "00c68d87-9924-42e9-e60d-1ea45c7e9b1b"
      },
      "execution_count": 24,
      "outputs": [
        {
          "output_type": "execute_result",
          "data": {
            "text/plain": [
              "['Gender']"
            ]
          },
          "metadata": {},
          "execution_count": 24
        }
      ]
    },
    {
      "cell_type": "code",
      "source": [
        "#Data Encoding\n",
        "import seaborn as sns\n",
        "import matplotlib.pyplot as plt\n",
        "import pandas as pd\n",
        "df=pd.read_csv(\"Mall_Customers.csv\")\n",
        "from sklearn.preprocessing import LabelEncoder\n",
        "le=LabelEncoder()\n",
        "data_encoded=df.apply(LabelEncoder().fit_transform)\n",
        "print(data_encoded)"
      ],
      "metadata": {
        "colab": {
          "base_uri": "https://localhost:8080/"
        },
        "id": "EODSMnuPObI2",
        "outputId": "fd18d456-378b-4161-97f9-ff3b09cce289"
      },
      "execution_count": 25,
      "outputs": [
        {
          "output_type": "stream",
          "name": "stdout",
          "text": [
            "     CustomerID  Gender  Age  Annual Income (k$)  Spending Score (1-100)\n",
            "0             0       1    1                   0                      30\n",
            "1             1       1    3                   0                      67\n",
            "2             2       0    2                   1                       4\n",
            "3             3       0    5                   1                      64\n",
            "4             4       0   13                   2                      31\n",
            "..          ...     ...  ...                 ...                     ...\n",
            "195         195       0   17                  61                      66\n",
            "196         196       0   27                  62                      23\n",
            "197         197       1   14                  62                      61\n",
            "198         198       1   14                  63                      16\n",
            "199         199       1   12                  63                      69\n",
            "\n",
            "[200 rows x 5 columns]\n"
          ]
        }
      ]
    },
    {
      "cell_type": "code",
      "source": [
        "#Spilt data into independent variables.\n",
        "X = data_encoded.iloc[:, :-1].values\n",
        "print(X)"
      ],
      "metadata": {
        "colab": {
          "base_uri": "https://localhost:8080/"
        },
        "id": "iBuD-FllOu3x",
        "outputId": "5a7f7f82-3d01-4ddb-81e0-039fc4cbd10d"
      },
      "execution_count": 26,
      "outputs": [
        {
          "output_type": "stream",
          "name": "stdout",
          "text": [
            "[[  0   1   1   0]\n",
            " [  1   1   3   0]\n",
            " [  2   0   2   1]\n",
            " [  3   0   5   1]\n",
            " [  4   0  13   2]\n",
            " [  5   0   4   2]\n",
            " [  6   0  17   3]\n",
            " [  7   0   5   3]\n",
            " [  8   1  44   4]\n",
            " [  9   0  12   4]\n",
            " [ 10   1  47   4]\n",
            " [ 11   0  17   4]\n",
            " [ 12   0  40   5]\n",
            " [ 13   0   6   5]\n",
            " [ 14   1  19   5]\n",
            " [ 15   1   4   5]\n",
            " [ 16   0  17   6]\n",
            " [ 17   1   2   6]\n",
            " [ 18   1  34   7]\n",
            " [ 19   0  17   7]\n",
            " [ 20   1  17   8]\n",
            " [ 21   1   7   8]\n",
            " [ 22   0  28   9]\n",
            " [ 23   1  13   9]\n",
            " [ 24   0  36  10]\n",
            " [ 25   1  11  10]\n",
            " [ 26   0  27  10]\n",
            " [ 27   1  17  10]\n",
            " [ 28   0  22  11]\n",
            " [ 29   0   5  11]\n",
            " [ 30   1  42  12]\n",
            " [ 31   0   3  12]\n",
            " [ 32   1  35  13]\n",
            " [ 33   1   0  13]\n",
            " [ 34   0  31  13]\n",
            " [ 35   0   3  13]\n",
            " [ 36   0  24  14]\n",
            " [ 37   0  12  14]\n",
            " [ 38   0  18  15]\n",
            " [ 39   0   2  15]\n",
            " [ 40   0  45  16]\n",
            " [ 41   1   6  16]\n",
            " [ 42   1  30  17]\n",
            " [ 43   0  13  17]\n",
            " [ 44   0  31  17]\n",
            " [ 45   0   6  17]\n",
            " [ 46   0  32  18]\n",
            " [ 47   0   9  18]\n",
            " [ 48   0  11  18]\n",
            " [ 49   0  13  18]\n",
            " [ 50   0  31  19]\n",
            " [ 51   1  15  19]\n",
            " [ 52   0  13  20]\n",
            " [ 53   1  41  20]\n",
            " [ 54   0  32  20]\n",
            " [ 55   1  29  20]\n",
            " [ 56   0  33  21]\n",
            " [ 57   1  49  21]\n",
            " [ 58   0   9  22]\n",
            " [ 59   1  35  22]\n",
            " [ 60   1  50  22]\n",
            " [ 61   1   1  22]\n",
            " [ 62   0  47  23]\n",
            " [ 63   0  36  23]\n",
            " [ 64   1  43  24]\n",
            " [ 65   1   0  24]\n",
            " [ 66   0  25  24]\n",
            " [ 67   0  48  24]\n",
            " [ 68   1   1  24]\n",
            " [ 69   0  14  24]\n",
            " [ 70   1  50  25]\n",
            " [ 71   0  29  25]\n",
            " [ 72   0  42  26]\n",
            " [ 73   0  42  26]\n",
            " [ 74   1  41  27]\n",
            " [ 75   1   8  27]\n",
            " [ 76   0  27  27]\n",
            " [ 77   1  22  27]\n",
            " [ 78   0   5  27]\n",
            " [ 79   0  31  27]\n",
            " [ 80   1  39  27]\n",
            " [ 81   1  20  27]\n",
            " [ 82   1  47  27]\n",
            " [ 83   0  28  27]\n",
            " [ 84   0   3  27]\n",
            " [ 85   1  30  27]\n",
            " [ 86   0  37  28]\n",
            " [ 87   0   4  28]\n",
            " [ 88   0  16  29]\n",
            " [ 89   0  32  29]\n",
            " [ 90   0  48  30]\n",
            " [ 91   1   0  30]\n",
            " [ 92   1  30  31]\n",
            " [ 93   0  22  31]\n",
            " [ 94   0  14  31]\n",
            " [ 95   1   6  31]\n",
            " [ 96   0  29  31]\n",
            " [ 97   0   9  31]\n",
            " [ 98   1  30  32]\n",
            " [ 99   1   2  32]\n",
            " [100   0   5  33]\n",
            " [101   0  31  33]\n",
            " [102   1  47  33]\n",
            " [103   1   8  33]\n",
            " [104   1  31  33]\n",
            " [105   0   3  33]\n",
            " [106   0  46  34]\n",
            " [107   1  36  34]\n",
            " [108   1  48  34]\n",
            " [109   1  46  34]\n",
            " [110   1  45  34]\n",
            " [111   0   1  34]\n",
            " [112   0  20  35]\n",
            " [113   1   1  35]\n",
            " [114   0   0  36]\n",
            " [115   0   1  36]\n",
            " [116   0  43  36]\n",
            " [117   0  31  36]\n",
            " [118   0  33  37]\n",
            " [119   0  32  37]\n",
            " [120   1   9  37]\n",
            " [121   0  20  37]\n",
            " [122   0  22  38]\n",
            " [123   1  21  38]\n",
            " [124   0   5  39]\n",
            " [125   0  13  39]\n",
            " [126   1  25  40]\n",
            " [127   1  22  40]\n",
            " [128   1  41  40]\n",
            " [129   1  20  40]\n",
            " [130   1  29  40]\n",
            " [131   1  21  40]\n",
            " [132   0   7  41]\n",
            " [133   0  13  41]\n",
            " [134   1   2  42]\n",
            " [135   0  11  42]\n",
            " [136   0  26  42]\n",
            " [137   1  14  42]\n",
            " [138   1   1  43]\n",
            " [139   0  17  43]\n",
            " [140   0  39  44]\n",
            " [141   1  14  44]\n",
            " [142   0  10  45]\n",
            " [143   0  14  45]\n",
            " [144   1   7  46]\n",
            " [145   1  10  46]\n",
            " [146   1  30  46]\n",
            " [147   0  14  46]\n",
            " [148   0  16  47]\n",
            " [149   1  16  47]\n",
            " [150   1  25  47]\n",
            " [151   1  21  47]\n",
            " [152   0  26  47]\n",
            " [153   0  20  47]\n",
            " [154   0  29  47]\n",
            " [155   0   9  47]\n",
            " [156   1  19  47]\n",
            " [157   0  12  47]\n",
            " [158   1  16  47]\n",
            " [159   0  12  47]\n",
            " [160   0  38  48]\n",
            " [161   0  11  48]\n",
            " [162   1   1  49]\n",
            " [163   0  13  49]\n",
            " [164   1  32  50]\n",
            " [165   0  18  50]\n",
            " [166   1  24  51]\n",
            " [167   0  15  51]\n",
            " [168   0  18  52]\n",
            " [169   1  14  52]\n",
            " [170   1  22  52]\n",
            " [171   1  10  52]\n",
            " [172   1  18  52]\n",
            " [173   1  18  52]\n",
            " [174   0  34  53]\n",
            " [175   0  12  53]\n",
            " [176   1  40  53]\n",
            " [177   1   9  53]\n",
            " [178   1  41  54]\n",
            " [179   1  17  54]\n",
            " [180   0  19  55]\n",
            " [181   0  14  55]\n",
            " [182   1  28  56]\n",
            " [183   0  11  56]\n",
            " [184   0  23  57]\n",
            " [185   1  12  57]\n",
            " [186   0  36  58]\n",
            " [187   1  10  58]\n",
            " [188   0  23  59]\n",
            " [189   0  18  59]\n",
            " [190   0  16  59]\n",
            " [191   0  14  59]\n",
            " [192   1  15  60]\n",
            " [193   0  20  60]\n",
            " [194   0  29  61]\n",
            " [195   0  17  61]\n",
            " [196   0  27  62]\n",
            " [197   1  14  62]\n",
            " [198   1  14  63]\n",
            " [199   1  12  63]]\n"
          ]
        }
      ]
    },
    {
      "cell_type": "code",
      "source": [
        "#Split into dependent variables\n",
        "Y = data_encoded.iloc[:, -1].values\n",
        "print(Y)"
      ],
      "metadata": {
        "colab": {
          "base_uri": "https://localhost:8080/"
        },
        "id": "CGs_Zf5XOzRU",
        "outputId": "8061fb26-624c-4531-9253-f39867aaab9f"
      },
      "execution_count": 27,
      "outputs": [
        {
          "output_type": "stream",
          "name": "stdout",
          "text": [
            "[30 67  4 64 31 63  4 79  1 59 12 83 13 64 11 66 28 55 24 82 28 60  3 60\n",
            " 12 68 26 52 25 72  2 60  2 77 12 67 15 60 21 62 28 77 29 52 23 54 46 38\n",
            " 33 33 43 51 45 51 36 32 41 37 42 37 47 46 43 50 42 50 41 39 50 38 46 33\n",
            " 40 47 38 45 44 39 43 33 42 46 32 35 48 37 49 46 51 37 46 32 40 31 33 43\n",
            " 38 41 33 40 32 39 50 46 47 33 41 37 34 39 43 45 33 37 39 41 34 50 34 48\n",
            " 47 31 49 76 24 64 28 80  9 62  7 62 27 58  3 73  5 60  8 59  3 78 31 72\n",
            " 10 81 29 61 18 75 15 73 17 63 14 74  0 65  0 60 28 69  3 78 21 62 17 80\n",
            " 22 53 11 62  8 77 11 71 13 57 12 75 26 71 13 73 30 81 20 56 15 70 19 57\n",
            "  6 76 14 66 23 61 16 69]\n"
          ]
        }
      ]
    },
    {
      "cell_type": "code",
      "source": [
        "#Scaling independent variables\n",
        "from sklearn.preprocessing import StandardScaler\n",
        " \n",
        "object= StandardScaler()\n",
        " \n",
        "# standardization \n",
        "scale = object.fit_transform(X) \n",
        "print(scale)"
      ],
      "metadata": {
        "colab": {
          "base_uri": "https://localhost:8080/"
        },
        "id": "CsY8XCgSO5Z_",
        "outputId": "53f26263-2cc8-4a7d-f6c3-eef715541730"
      },
      "execution_count": 28,
      "outputs": [
        {
          "output_type": "stream",
          "name": "stdout",
          "text": [
            "[[-1.7234121   1.12815215 -1.44683356 -1.88641296]\n",
            " [-1.70609137  1.12815215 -1.29979763 -1.88641296]\n",
            " [-1.68877065 -0.88640526 -1.37331559 -1.82738877]\n",
            " [-1.67144992 -0.88640526 -1.15276169 -1.82738877]\n",
            " [-1.6541292  -0.88640526 -0.56461797 -1.76836459]\n",
            " [-1.63680847 -0.88640526 -1.22627966 -1.76836459]\n",
            " [-1.61948775 -0.88640526 -0.27054611 -1.7093404 ]\n",
            " [-1.60216702 -0.88640526 -1.15276169 -1.7093404 ]\n",
            " [-1.5848463   1.12815215  1.71443895 -1.65031622]\n",
            " [-1.56752558 -0.88640526 -0.63813594 -1.65031622]\n",
            " [-1.55020485  1.12815215  1.93499284 -1.65031622]\n",
            " [-1.53288413 -0.88640526 -0.27054611 -1.65031622]\n",
            " [-1.5155634  -0.88640526  1.42036709 -1.59129203]\n",
            " [-1.49824268 -0.88640526 -1.07924373 -1.59129203]\n",
            " [-1.48092195  1.12815215 -0.12351018 -1.59129203]\n",
            " [-1.46360123  1.12815215 -1.22627966 -1.59129203]\n",
            " [-1.4462805  -0.88640526 -0.27054611 -1.53226784]\n",
            " [-1.42895978  1.12815215 -1.37331559 -1.53226784]\n",
            " [-1.41163905  1.12815215  0.9792593  -1.47324366]\n",
            " [-1.39431833 -0.88640526 -0.27054611 -1.47324366]\n",
            " [-1.3769976   1.12815215 -0.27054611 -1.41421947]\n",
            " [-1.35967688  1.12815215 -1.00572576 -1.41421947]\n",
            " [-1.34235616 -0.88640526  0.53815151 -1.35519529]\n",
            " [-1.32503543  1.12815215 -0.56461797 -1.35519529]\n",
            " [-1.30771471 -0.88640526  1.12629523 -1.2961711 ]\n",
            " [-1.29039398  1.12815215 -0.7116539  -1.2961711 ]\n",
            " [-1.27307326 -0.88640526  0.46463354 -1.2961711 ]\n",
            " [-1.25575253  1.12815215 -0.27054611 -1.2961711 ]\n",
            " [-1.23843181 -0.88640526  0.09704371 -1.23714692]\n",
            " [-1.22111108 -0.88640526 -1.15276169 -1.23714692]\n",
            " [-1.20379036  1.12815215  1.56740302 -1.17812273]\n",
            " [-1.18646963 -0.88640526 -1.29979763 -1.17812273]\n",
            " [-1.16914891  1.12815215  1.05277726 -1.11909855]\n",
            " [-1.15182818  1.12815215 -1.52035152 -1.11909855]\n",
            " [-1.13450746 -0.88640526  0.7587054  -1.11909855]\n",
            " [-1.11718674 -0.88640526 -1.29979763 -1.11909855]\n",
            " [-1.09986601 -0.88640526  0.24407964 -1.06007436]\n",
            " [-1.08254529 -0.88640526 -0.63813594 -1.06007436]\n",
            " [-1.06522456 -0.88640526 -0.19702815 -1.00105018]\n",
            " [-1.04790384 -0.88640526 -1.37331559 -1.00105018]\n",
            " [-1.03058311 -0.88640526  1.78795691 -0.94202599]\n",
            " [-1.01326239  1.12815215 -1.07924373 -0.94202599]\n",
            " [-0.99594166  1.12815215  0.68518744 -0.88300181]\n",
            " [-0.97862094 -0.88640526 -0.56461797 -0.88300181]\n",
            " [-0.96130021 -0.88640526  0.7587054  -0.88300181]\n",
            " [-0.94397949 -0.88640526 -1.07924373 -0.88300181]\n",
            " [-0.92665877 -0.88640526  0.83222337 -0.82397762]\n",
            " [-0.90933804 -0.88640526 -0.85868983 -0.82397762]\n",
            " [-0.89201732 -0.88640526 -0.7116539  -0.82397762]\n",
            " [-0.87469659 -0.88640526 -0.56461797 -0.82397762]\n",
            " [-0.85737587 -0.88640526  0.7587054  -0.76495344]\n",
            " [-0.84005514  1.12815215 -0.41758204 -0.76495344]\n",
            " [-0.82273442 -0.88640526 -0.56461797 -0.70592925]\n",
            " [-0.80541369  1.12815215  1.49388505 -0.70592925]\n",
            " [-0.78809297 -0.88640526  0.83222337 -0.70592925]\n",
            " [-0.77077224  1.12815215  0.61166947 -0.70592925]\n",
            " [-0.75345152 -0.88640526  0.90574133 -0.64690507]\n",
            " [-0.73613079  1.12815215  2.08202878 -0.64690507]\n",
            " [-0.71881007 -0.88640526 -0.85868983 -0.58788088]\n",
            " [-0.70148935  1.12815215  1.05277726 -0.58788088]\n",
            " [-0.68416862  1.12815215  2.15554674 -0.58788088]\n",
            " [-0.6668479   1.12815215 -1.44683356 -0.58788088]\n",
            " [-0.64952717 -0.88640526  1.93499284 -0.5288567 ]\n",
            " [-0.63220645 -0.88640526  1.12629523 -0.5288567 ]\n",
            " [-0.61488572  1.12815215  1.64092098 -0.46983251]\n",
            " [-0.597565    1.12815215 -1.52035152 -0.46983251]\n",
            " [-0.58024427 -0.88640526  0.31759761 -0.46983251]\n",
            " [-0.56292355 -0.88640526  2.00851081 -0.46983251]\n",
            " [-0.54560282  1.12815215 -1.44683356 -0.46983251]\n",
            " [-0.5282821  -0.88640526 -0.49110001 -0.46983251]\n",
            " [-0.51096138  1.12815215  2.15554674 -0.41080833]\n",
            " [-0.49364065 -0.88640526  0.61166947 -0.41080833]\n",
            " [-0.47631993 -0.88640526  1.56740302 -0.35178414]\n",
            " [-0.4589992  -0.88640526  1.56740302 -0.35178414]\n",
            " [-0.44167848  1.12815215  1.49388505 -0.29275996]\n",
            " [-0.42435775  1.12815215 -0.9322078  -0.29275996]\n",
            " [-0.40703703 -0.88640526  0.46463354 -0.29275996]\n",
            " [-0.3897163   1.12815215  0.09704371 -0.29275996]\n",
            " [-0.37239558 -0.88640526 -1.15276169 -0.29275996]\n",
            " [-0.35507485 -0.88640526  0.7587054  -0.29275996]\n",
            " [-0.33775413  1.12815215  1.34684912 -0.29275996]\n",
            " [-0.3204334   1.12815215 -0.04999222 -0.29275996]\n",
            " [-0.30311268  1.12815215  1.93499284 -0.29275996]\n",
            " [-0.28579196 -0.88640526  0.53815151 -0.29275996]\n",
            " [-0.26847123 -0.88640526 -1.29979763 -0.29275996]\n",
            " [-0.25115051  1.12815215  0.68518744 -0.29275996]\n",
            " [-0.23382978 -0.88640526  1.19981319 -0.23373577]\n",
            " [-0.21650906 -0.88640526 -1.22627966 -0.23373577]\n",
            " [-0.19918833 -0.88640526 -0.34406408 -0.17471159]\n",
            " [-0.18186761 -0.88640526  0.83222337 -0.17471159]\n",
            " [-0.16454688 -0.88640526  2.00851081 -0.1156874 ]\n",
            " [-0.14722616  1.12815215 -1.52035152 -0.1156874 ]\n",
            " [-0.12990543  1.12815215  0.68518744 -0.05666322]\n",
            " [-0.11258471 -0.88640526  0.09704371 -0.05666322]\n",
            " [-0.09526399 -0.88640526 -0.49110001 -0.05666322]\n",
            " [-0.07794326  1.12815215 -1.07924373 -0.05666322]\n",
            " [-0.06062254 -0.88640526  0.61166947 -0.05666322]\n",
            " [-0.04330181 -0.88640526 -0.85868983 -0.05666322]\n",
            " [-0.02598109  1.12815215  0.68518744  0.00236097]\n",
            " [-0.00866036  1.12815215 -1.37331559  0.00236097]\n",
            " [ 0.00866036 -0.88640526 -1.15276169  0.06138515]\n",
            " [ 0.02598109 -0.88640526  0.7587054   0.06138515]\n",
            " [ 0.04330181  1.12815215  1.93499284  0.06138515]\n",
            " [ 0.06062254  1.12815215 -0.9322078   0.06138515]\n",
            " [ 0.07794326  1.12815215  0.7587054   0.06138515]\n",
            " [ 0.09526399 -0.88640526 -1.29979763  0.06138515]\n",
            " [ 0.11258471 -0.88640526  1.86147488  0.12040934]\n",
            " [ 0.12990543  1.12815215  1.12629523  0.12040934]\n",
            " [ 0.14722616  1.12815215  2.00851081  0.12040934]\n",
            " [ 0.16454688  1.12815215  1.86147488  0.12040934]\n",
            " [ 0.18186761  1.12815215  1.78795691  0.12040934]\n",
            " [ 0.19918833 -0.88640526 -1.44683356  0.12040934]\n",
            " [ 0.21650906 -0.88640526 -0.04999222  0.17943352]\n",
            " [ 0.23382978  1.12815215 -1.44683356  0.17943352]\n",
            " [ 0.25115051 -0.88640526 -1.52035152  0.23845771]\n",
            " [ 0.26847123 -0.88640526 -1.44683356  0.23845771]\n",
            " [ 0.28579196 -0.88640526  1.64092098  0.23845771]\n",
            " [ 0.30311268 -0.88640526  0.7587054   0.23845771]\n",
            " [ 0.3204334  -0.88640526  0.90574133  0.29748189]\n",
            " [ 0.33775413 -0.88640526  0.83222337  0.29748189]\n",
            " [ 0.35507485  1.12815215 -0.85868983  0.29748189]\n",
            " [ 0.37239558 -0.88640526 -0.04999222  0.29748189]\n",
            " [ 0.3897163  -0.88640526  0.09704371  0.35650608]\n",
            " [ 0.40703703  1.12815215  0.02352575  0.35650608]\n",
            " [ 0.42435775 -0.88640526 -1.15276169  0.41553026]\n",
            " [ 0.44167848 -0.88640526 -0.56461797  0.41553026]\n",
            " [ 0.4589992   1.12815215  0.31759761  0.47455445]\n",
            " [ 0.47631993  1.12815215  0.09704371  0.47455445]\n",
            " [ 0.49364065  1.12815215  1.49388505  0.47455445]\n",
            " [ 0.51096138  1.12815215 -0.04999222  0.47455445]\n",
            " [ 0.5282821   1.12815215  0.61166947  0.47455445]\n",
            " [ 0.54560282  1.12815215  0.02352575  0.47455445]\n",
            " [ 0.56292355 -0.88640526 -1.00572576  0.53357863]\n",
            " [ 0.58024427 -0.88640526 -0.56461797  0.53357863]\n",
            " [ 0.597565    1.12815215 -1.37331559  0.59260282]\n",
            " [ 0.61488572 -0.88640526 -0.7116539   0.59260282]\n",
            " [ 0.63220645 -0.88640526  0.39111557  0.59260282]\n",
            " [ 0.64952717  1.12815215 -0.49110001  0.59260282]\n",
            " [ 0.6668479   1.12815215 -1.44683356  0.651627  ]\n",
            " [ 0.68416862 -0.88640526 -0.27054611  0.651627  ]\n",
            " [ 0.70148935 -0.88640526  1.34684912  0.71065119]\n",
            " [ 0.71881007  1.12815215 -0.49110001  0.71065119]\n",
            " [ 0.73613079 -0.88640526 -0.78517187  0.76967537]\n",
            " [ 0.75345152 -0.88640526 -0.49110001  0.76967537]\n",
            " [ 0.77077224  1.12815215 -1.00572576  0.82869956]\n",
            " [ 0.78809297  1.12815215 -0.78517187  0.82869956]\n",
            " [ 0.80541369  1.12815215  0.68518744  0.82869956]\n",
            " [ 0.82273442 -0.88640526 -0.49110001  0.82869956]\n",
            " [ 0.84005514 -0.88640526 -0.34406408  0.88772374]\n",
            " [ 0.85737587  1.12815215 -0.34406408  0.88772374]\n",
            " [ 0.87469659  1.12815215  0.31759761  0.88772374]\n",
            " [ 0.89201732  1.12815215  0.02352575  0.88772374]\n",
            " [ 0.90933804 -0.88640526  0.39111557  0.88772374]\n",
            " [ 0.92665877 -0.88640526 -0.04999222  0.88772374]\n",
            " [ 0.94397949 -0.88640526  0.61166947  0.88772374]\n",
            " [ 0.96130021 -0.88640526 -0.85868983  0.88772374]\n",
            " [ 0.97862094  1.12815215 -0.12351018  0.88772374]\n",
            " [ 0.99594166 -0.88640526 -0.63813594  0.88772374]\n",
            " [ 1.01326239  1.12815215 -0.34406408  0.88772374]\n",
            " [ 1.03058311 -0.88640526 -0.63813594  0.88772374]\n",
            " [ 1.04790384 -0.88640526  1.27333116  0.94674793]\n",
            " [ 1.06522456 -0.88640526 -0.7116539   0.94674793]\n",
            " [ 1.08254529  1.12815215 -1.44683356  1.00577211]\n",
            " [ 1.09986601 -0.88640526 -0.56461797  1.00577211]\n",
            " [ 1.11718674  1.12815215  0.83222337  1.0647963 ]\n",
            " [ 1.13450746 -0.88640526 -0.19702815  1.0647963 ]\n",
            " [ 1.15182818  1.12815215  0.24407964  1.12382048]\n",
            " [ 1.16914891 -0.88640526 -0.41758204  1.12382048]\n",
            " [ 1.18646963 -0.88640526 -0.19702815  1.18284467]\n",
            " [ 1.20379036  1.12815215 -0.49110001  1.18284467]\n",
            " [ 1.22111108  1.12815215  0.09704371  1.18284467]\n",
            " [ 1.23843181  1.12815215 -0.78517187  1.18284467]\n",
            " [ 1.25575253  1.12815215 -0.19702815  1.18284467]\n",
            " [ 1.27307326  1.12815215 -0.19702815  1.18284467]\n",
            " [ 1.29039398 -0.88640526  0.9792593   1.24186885]\n",
            " [ 1.30771471 -0.88640526 -0.63813594  1.24186885]\n",
            " [ 1.32503543  1.12815215  1.42036709  1.24186885]\n",
            " [ 1.34235616  1.12815215 -0.85868983  1.24186885]\n",
            " [ 1.35967688  1.12815215  1.49388505  1.30089304]\n",
            " [ 1.3769976   1.12815215 -0.27054611  1.30089304]\n",
            " [ 1.39431833 -0.88640526 -0.12351018  1.35991722]\n",
            " [ 1.41163905 -0.88640526 -0.49110001  1.35991722]\n",
            " [ 1.42895978  1.12815215  0.53815151  1.41894141]\n",
            " [ 1.4462805  -0.88640526 -0.7116539   1.41894141]\n",
            " [ 1.46360123 -0.88640526  0.17056168  1.47796559]\n",
            " [ 1.48092195  1.12815215 -0.63813594  1.47796559]\n",
            " [ 1.49824268 -0.88640526  1.12629523  1.53698978]\n",
            " [ 1.5155634   1.12815215 -0.78517187  1.53698978]\n",
            " [ 1.53288413 -0.88640526  0.17056168  1.59601396]\n",
            " [ 1.55020485 -0.88640526 -0.19702815  1.59601396]\n",
            " [ 1.56752558 -0.88640526 -0.34406408  1.59601396]\n",
            " [ 1.5848463  -0.88640526 -0.49110001  1.59601396]\n",
            " [ 1.60216702  1.12815215 -0.41758204  1.65503815]\n",
            " [ 1.61948775 -0.88640526 -0.04999222  1.65503815]\n",
            " [ 1.63680847 -0.88640526  0.61166947  1.71406233]\n",
            " [ 1.6541292  -0.88640526 -0.27054611  1.71406233]\n",
            " [ 1.67144992 -0.88640526  0.46463354  1.77308652]\n",
            " [ 1.68877065  1.12815215 -0.49110001  1.77308652]\n",
            " [ 1.70609137  1.12815215 -0.49110001  1.83211071]\n",
            " [ 1.7234121   1.12815215 -0.63813594  1.83211071]]\n"
          ]
        }
      ]
    },
    {
      "cell_type": "code",
      "source": [
        "#FIND THE OUTLIERS\n",
        "sns.boxplot(x='Annual Income (k$)', data=df)"
      ],
      "metadata": {
        "colab": {
          "base_uri": "https://localhost:8080/",
          "height": 296
        },
        "id": "INKQsnHIO_Hi",
        "outputId": "b927107f-633e-4050-b4d5-6df544c36267"
      },
      "execution_count": 29,
      "outputs": [
        {
          "output_type": "execute_result",
          "data": {
            "text/plain": [
              "<matplotlib.axes._subplots.AxesSubplot at 0x7f46673b1b90>"
            ]
          },
          "metadata": {},
          "execution_count": 29
        },
        {
          "output_type": "display_data",
          "data": {
            "text/plain": [
              "<Figure size 432x288 with 1 Axes>"
            ],
            "image/png": "[encoded data removed]"
          },
          "metadata": {
            "needs_background": "light"
          }
        }
      ]
    },
    {
      "cell_type": "code",
      "source": [
        "#REMOVING THE OULIERS BASED ON SCORE\n",
        "import numpy as np\n",
        "import sklearn\n",
        "from sklearn.datasets import load_boston \n",
        "\n",
        "Q1 = np.percentile(df['Annual Income (k$)'], 25, interpolation = 'midpoint') \n",
        "Q3 = np.percentile(df['Annual Income (k$)'], 75, interpolation = 'midpoint') \n",
        "IQR = Q3 - Q1 \n",
        "print(\"Old Shape: \", df.shape) \n",
        "upper = np.where(df['Annual Income (k$)'] >= (Q3+1.5*IQR)) \n",
        "lower = np.where(df['Annual Income (k$)'] <= (Q1-1.5*IQR)) \n",
        "df.drop(upper[0], inplace = True) \n",
        "df.drop(lower[0], inplace = True) \n",
        "print(\"New Shape: \", df.shape) \n",
        "sns.boxplot(x='Annual Income (k$)', data=df)"
      ],
      "metadata": {
        "colab": {
          "base_uri": "https://localhost:8080/",
          "height": 331
        },
        "id": "GKW-NixvPJ3x",
        "outputId": "ae1fe343-a43f-47c2-de72-b53c80866ee5"
      },
      "execution_count": 30,
      "outputs": [
        {
          "output_type": "stream",
          "name": "stdout",
          "text": [
            "Old Shape:  (200, 5)\n",
            "New Shape:  (198, 5)\n"
          ]
        },
        {
          "output_type": "execute_result",
          "data": {
            "text/plain": [
              "<matplotlib.axes._subplots.AxesSubplot at 0x7f46651f8dd0>"
            ]
          },
          "metadata": {},
          "execution_count": 30
        },
        {
          "output_type": "display_data",
          "data": {
            "text/plain": [
              "<Figure size 432x288 with 1 Axes>"
            ],
            "image/png": "[encoded data removed]"
          },
          "metadata": {
            "needs_background": "light"
          }
        }
      ]
    },
    {
      "cell_type": "code",
      "source": [
        "from sklearn.model_selection import train_test_split\n",
        "# split the dataset\n",
        "X_train, X_test, Y_train, Y_test = train_test_split(X, Y, test_size=0.20, random_state=0)"
      ],
      "metadata": {
        "id": "OI3Zbtk4Po_K"
      },
      "execution_count": 31,
      "outputs": []
    },
    {
      "cell_type": "code",
      "source": [
        "X_train.shape"
      ],
      "metadata": {
        "id": "-r0MQwyYPdkj",
        "colab": {
          "base_uri": "https://localhost:8080/"
        },
        "outputId": "2c56e1a6-e03e-4679-f5f7-dc87ec258781"
      },
      "execution_count": 32,
      "outputs": [
        {
          "output_type": "execute_result",
          "data": {
            "text/plain": [
              "(160, 4)"
            ]
          },
          "metadata": {},
          "execution_count": 32
        }
      ]
    },
    {
      "cell_type": "code",
      "source": [
        "X_test.shape"
      ],
      "metadata": {
        "colab": {
          "base_uri": "https://localhost:8080/"
        },
        "id": "jm_BTCbh68KK",
        "outputId": "76bf6023-6705-4b63-8f08-3485badfd9ca"
      },
      "execution_count": 33,
      "outputs": [
        {
          "output_type": "execute_result",
          "data": {
            "text/plain": [
              "(40, 4)"
            ]
          },
          "metadata": {},
          "execution_count": 33
        }
      ]
    },
    {
      "cell_type": "code",
      "source": [
        "Y_train.shape"
      ],
      "metadata": {
        "colab": {
          "base_uri": "https://localhost:8080/"
        },
        "id": "ays-xYsP7AlC",
        "outputId": "f3e0db06-ef88-4e77-93c9-45066d9a0c9b"
      },
      "execution_count": 34,
      "outputs": [
        {
          "output_type": "execute_result",
          "data": {
            "text/plain": [
              "(160,)"
            ]
          },
          "metadata": {},
          "execution_count": 34
        }
      ]
    },
    {
      "cell_type": "code",
      "source": [
        "Y_test.shape"
      ],
      "metadata": {
        "colab": {
          "base_uri": "https://localhost:8080/"
        },
        "id": "hk_Lwuu47HMA",
        "outputId": "67d60b3e-b58c-4f20-ff52-c677c3837bd4"
      },
      "execution_count": 35,
      "outputs": [
        {
          "output_type": "execute_result",
          "data": {
            "text/plain": [
              "(40,)"
            ]
          },
          "metadata": {},
          "execution_count": 35
        }
      ]
    },
    {
      "cell_type": "code",
      "source": [
        "#BUILD THE MODEL"
      ],
      "metadata": {
        "id": "j6OhvgM-7K4Q"
      },
      "execution_count": null,
      "outputs": []
    },
    {
      "cell_type": "code",
      "source": [
        "x = df.iloc[:, [3, 4]].values"
      ],
      "metadata": {
        "id": "w57FM-M47QGN"
      },
      "execution_count": 36,
      "outputs": []
    },
    {
      "cell_type": "code",
      "source": [
        "#finding optimal number of clusters using the elbow method  \n",
        "from sklearn.cluster import KMeans  \n",
        "wcss_list= []  #Initializing the list for the values of WCSS  \n",
        "  \n",
        "#Using for loop for iterations from 1 to 10.  \n",
        "for i in range(1, 11):  \n",
        "    kmeans = KMeans(n_clusters=i, init='k-means++', random_state= 42)  \n",
        "    kmeans.fit(x)  \n",
        "    wcss_list.append(kmeans.inertia_)  \n",
        "plt.plot(range(1, 11), wcss_list)  \n",
        "plt.title('The Elobw Method Graph')  \n",
        "plt.xlabel('Number of clusters(k)')  \n",
        "plt.ylabel('wcss_list')  \n",
        "plt.show()"
      ],
      "metadata": {
        "colab": {
          "base_uri": "https://localhost:8080/",
          "height": 295
        },
        "id": "oZzv_Ob87S7T",
        "outputId": "7330edf3-a5af-4edb-9db2-701095b51e1d"
      },
      "execution_count": 37,
      "outputs": [
        {
          "output_type": "display_data",
          "data": {
            "text/plain": [
              "<Figure size 432x288 with 1 Axes>"
            ],
            "image/png": "[encoded data removed]"
          },
          "metadata": {
            "needs_background": "light"
          }
        }
      ]
    },
    {
      "cell_type": "code",
      "source": [
        "#training the K-means model on a dataset  \n",
        "kmeans = KMeans(n_clusters=5, init='k-means++', random_state= 42)  \n",
        "y_predict= kmeans.fit_predict(x)"
      ],
      "metadata": {
        "id": "1jiiESDT7Wma"
      },
      "execution_count": 38,
      "outputs": []
    },
    {
      "cell_type": "code",
      "source": [
        "#visulaizing the clusters  \n",
        "plt.scatter(x[y_predict == 0, 0], x[y_predict == 0, 1], s = 100, c = 'blue', label = 'Cluster 1') #for first cluster  \n",
        "plt.scatter(x[y_predict == 1, 0], x[y_predict == 1, 1], s = 100, c = 'green', label = 'Cluster 2') #for second cluster  \n",
        "plt.scatter(x[y_predict== 2, 0], x[y_predict == 2, 1], s = 100, c = 'red', label = 'Cluster 3') #for third cluster  \n",
        "plt.scatter(x[y_predict == 3, 0], x[y_predict == 3, 1], s = 100, c = 'cyan', label = 'Cluster 4') #for fourth cluster  \n",
        "plt.scatter(x[y_predict == 4, 0], x[y_predict == 4, 1], s = 100, c = 'magenta', label = 'Cluster 5') #for fifth cluster  \n",
        "plt.scatter(kmeans.cluster_centers_[:, 0], kmeans.cluster_centers_[:, 1], s = 300, c = 'yellow', label = 'Centroid')   \n",
        "plt.title('Clusters of customers')  \n",
        "plt.xlabel('Annual Income (k$)')  \n",
        "plt.ylabel('Spending Score (1-100)')  \n",
        "plt.legend()  \n",
        "plt.show()"
      ],
      "metadata": {
        "colab": {
          "base_uri": "https://localhost:8080/",
          "height": 295
        },
        "id": "PS0319VI7cwp",
        "outputId": "d137d004-2268-4086-db5c-1da3e7838dd0"
      },
      "execution_count": 39,
      "outputs": [
        {
          "output_type": "display_data",
          "data": {
            "text/plain": [
              "<Figure size 432x288 with 1 Axes>"
            ],
            "image/png": "[encoded data removed]"
          },
          "metadata": {
            "needs_background": "light"
          }
        }
      ]
    }
  ]
}